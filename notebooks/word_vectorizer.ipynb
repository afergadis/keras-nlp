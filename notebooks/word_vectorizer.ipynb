{
 "cells": [
  {
   "cell_type": "markdown",
   "metadata": {
    "pycharm": {
     "name": "#%% md\n"
    }
   },
   "source": [
    "# Data\n",
    "Download the IMDB reviews if its not already in the local cache.\n",
    "Load from the local cache and split to train and test sets."
   ]
  },
  {
   "cell_type": "code",
   "execution_count": 1,
   "metadata": {
    "pycharm": {
     "is_executing": false
    }
   },
   "outputs": [
    {
     "name": "stdout",
     "output_type": "stream",
     "text": [
      "An example from the reviews:\n",
      "============================\n",
      "Text : Entertainment Tonight has been going down hill for the last few years, but as of last night (Aug 17th 2006) they reached a new low.<br /><br />In an effort to try to hype up their broadcast, they deci...\n",
      "Label: neg\n"
     ]
    }
   ],
   "source": [
    "import os\n",
    "import ssl\n",
    "from tensorflow.keras.utils import get_file\n",
    "try:\n",
    "    from notebooks.data import load_imdb\n",
    "except ModuleNotFoundError:\n",
    "    from data import load_imdb\n",
    "\n",
    "if (not os.environ.get('PYTHONHTTPSVERIFY', '')\n",
    "        and getattr(ssl, '_create_unverified_context', None)):\n",
    "    ssl._create_default_https_context = ssl._create_unverified_context\n",
    "\n",
    "zip_file = get_file('aclImdb.zip', origin='http://mng.bz/0tIo', extract=True)\n",
    "imdb_dir = zip_file.replace('.zip', '')\n",
    "(train_texts, train_labels), (test_texts, test_labels) = load_imdb(imdb_dir)\n",
    "\n",
    "print('An example from the reviews:')\n",
    "print('============================')\n",
    "print(f'Text : {train_texts[0][:200]}...')\n",
    "print(f'Label: {train_labels[0]}')"
   ]
  },
  {
   "cell_type": "markdown",
   "metadata": {
    "pycharm": {
     "name": "#%% md\n"
    }
   },
   "source": [
    "# Prepare Data\n",
    "Initialize a `WordVectorizer`. The vectorizer will be fitted on the \n",
    "`train_texts`. We won't use any word tokenizer, so the words will be splitted\n",
    "on spaces and keep the `num_words` most common words."
   ]
  },
  {
   "cell_type": "code",
   "execution_count": 2,
   "metadata": {
    "pycharm": {
     "is_executing": false,
     "name": "#%%\n"
    }
   },
   "outputs": [
    {
     "name": "stderr",
     "output_type": "stream",
     "text": [
      "2020-Apr-10 00:01:28 [INFO    :WordVectorizer] - Creating vocabulary.\n"
     ]
    },
    {
     "name": "stdout",
     "output_type": "stream",
     "text": [
      "25000/25000 [==============================] - 4s 172us/step\n",
      "Vectorizer number of tokens: 50002\n"
     ]
    }
   ],
   "source": [
    "from keras_nlp import WordVectorizer\n",
    "\n",
    "num_words = 50000\n",
    "word_vectorizer = WordVectorizer(num_words=num_words, oov_token='UNK')\n",
    "word_vectorizer.fit_on_texts(train_texts)\n",
    "# The vectorizer's number of tokens num_words + PAD + OOV token\n",
    "print(f'Vectorizer number of tokens: {word_vectorizer.num_tokens}')"
   ]
  },
  {
   "cell_type": "markdown",
   "metadata": {
    "pycharm": {
     "name": "#%% md\n"
    }
   },
   "source": [
    "## Vectorize Data\n",
    "We apply the fitted vectorizer onto the train and test texts. "
   ]
  },
  {
   "cell_type": "code",
   "execution_count": 3,
   "metadata": {
    "pycharm": {
     "is_executing": false,
     "name": "#%%\n"
    }
   },
   "outputs": [
    {
     "name": "stderr",
     "output_type": "stream",
     "text": [
      "2020-Apr-10 00:01:32 [INFO    :WordVectorizer] - Converting texts to vectors.\n"
     ]
    },
    {
     "name": "stdout",
     "output_type": "stream",
     "text": [
      "25000/25000 [==============================] - 4s 168us/step\n"
     ]
    }
   ],
   "source": [
    "max_tokens = 1000\n",
    "X_train = word_vectorizer.texts_to_vectors(train_texts, shape=(max_tokens,))"
   ]
  },
  {
   "cell_type": "markdown",
   "metadata": {
    "pycharm": {
     "name": "#%% md\n"
    }
   },
   "source": [
    "**Attention**: We *must* pass the same number of `max_tokens` when converting\n",
    "different text sets. If we don't, then it is almost certain that the results\n",
    "will have different numbers of columns because the set are likely to have \n",
    "different number of tokens."
   ]
  },
  {
   "cell_type": "code",
   "execution_count": 4,
   "metadata": {
    "pycharm": {
     "is_executing": false,
     "name": "#%%\n"
    }
   },
   "outputs": [
    {
     "name": "stderr",
     "output_type": "stream",
     "text": [
      "2020-Apr-10 00:01:37 [INFO    :WordVectorizer] - Converting texts to vectors.\n"
     ]
    },
    {
     "name": "stdout",
     "output_type": "stream",
     "text": [
      "25000/25000 [==============================] - 4s 168us/step\n"
     ]
    }
   ],
   "source": [
    "X_test = word_vectorizer.texts_to_vectors(test_texts, shape=(max_tokens,))"
   ]
  },
  {
   "cell_type": "markdown",
   "metadata": {
    "pycharm": {
     "name": "#%% md\n"
    }
   },
   "source": [
    "## Decode Data\n",
    "We print a decoded fragment of an encoded review as an example."
   ]
  },
  {
   "cell_type": "code",
   "execution_count": 5,
   "metadata": {
    "pycharm": {
     "is_executing": false,
     "name": "#%%\n"
    }
   },
   "outputs": [
    {
     "name": "stderr",
     "output_type": "stream",
     "text": [
      "2020-Apr-10 00:01:42 [INFO    :WordVectorizer] - Converting vectors to texts.\n"
     ]
    },
    {
     "name": "stdout",
     "output_type": "stream",
     "text": [
      "1/1 [==============================] - 0s 507us/step\n",
      "Example fragment of a decoded review\n",
      "====================================\n",
      "['he', 'she', 'is', 'wrong', 'i', 'was', 'rather', 'puzzled', 'by']\n"
     ]
    }
   ],
   "source": [
    "decoded = word_vectorizer.vectors_to_texts(X_test[:1])\n",
    "print('Example fragment of a decoded review')\n",
    "print('====================================')\n",
    "print(decoded[0][67:76])"
   ]
  },
  {
   "cell_type": "markdown",
   "metadata": {
    "pycharm": {
     "name": "#%% md\n"
    }
   },
   "source": [
    "## Encode Labels\n",
    "The labels are strings ('pos' / 'neg'). We will convert them to numbers."
   ]
  },
  {
   "cell_type": "code",
   "execution_count": 6,
   "metadata": {
    "pycharm": {
     "is_executing": false,
     "name": "#%%\n"
    }
   },
   "outputs": [],
   "source": [
    "from sklearn.preprocessing import label_binarize\n",
    "\n",
    "y_train = label_binarize(train_labels, classes=['neg', 'pos'])\n",
    "y_test = label_binarize(test_labels, classes=['neg', 'pos'])"
   ]
  },
  {
   "cell_type": "markdown",
   "metadata": {
    "pycharm": {
     "name": "#%% md\n"
    }
   },
   "source": [
    "## Keep a Validation Set"
   ]
  },
  {
   "cell_type": "code",
   "execution_count": 7,
   "metadata": {
    "pycharm": {
     "is_executing": false,
     "name": "#%%\n"
    }
   },
   "outputs": [
    {
     "name": "stdout",
     "output_type": "stream",
     "text": [
      "X_train: (18750, 1000)\n",
      "X_dev  : (6250, 1000)\n",
      "X_test : (25000, 1000)\n"
     ]
    }
   ],
   "source": [
    "from sklearn.model_selection import train_test_split\n",
    "\n",
    "X_train, X_val, y_train, y_val = train_test_split(\n",
    "    X_train, y_train, stratify=y_train, shuffle=True, random_state=44)\n",
    "\n",
    "print(f'X_train: {X_train.shape}')\n",
    "print(f'X_dev  : {X_val.shape}')\n",
    "print(f'X_test : {X_test.shape}')"
   ]
  },
  {
   "cell_type": "markdown",
   "metadata": {
    "pycharm": {
     "name": "#%% md\n"
    }
   },
   "source": [
    "# Neural Network\n",
    "Here we define a toy network for demonstration purpose."
   ]
  },
  {
   "cell_type": "code",
   "execution_count": 8,
   "metadata": {
    "pycharm": {
     "is_executing": false,
     "name": "#%%\n"
    }
   },
   "outputs": [
    {
     "name": "stdout",
     "output_type": "stream",
     "text": [
      "Model: \"model\"\n",
      "_________________________________________________________________\n",
      "Layer (type)                 Output Shape              Param #   \n",
      "=================================================================\n",
      "Input (InputLayer)           [(None, 1000)]            0         \n",
      "_________________________________________________________________\n",
      "Embeddings (Embedding)       (None, 1000, 100)         5000200   \n",
      "_________________________________________________________________\n",
      "Flatten (Flatten)            (None, 100000)            0         \n",
      "_________________________________________________________________\n",
      "Predictions (Dense)          (None, 1)                 100001    \n",
      "=================================================================\n",
      "Total params: 5,100,201\n",
      "Trainable params: 5,100,201\n",
      "Non-trainable params: 0\n",
      "_________________________________________________________________\n",
      "None\n"
     ]
    }
   ],
   "source": [
    "from tensorflow.keras import Input, Model\n",
    "from tensorflow.keras.layers import Embedding, TimeDistributed, \\\n",
    "    Dropout, Flatten, Dense\n",
    "\n",
    "words_input = Input(shape=(max_tokens, ), name='Input', dtype='int32')\n",
    "words_embeddings = Embedding(\n",
    "    input_dim=len(word_vectorizer.token2id),\n",
    "    output_dim=100,\n",
    "    input_length=max_tokens,\n",
    "    mask_zero=0,\n",
    "    trainable=True,\n",
    "    name='Embeddings')(words_input)\n",
    "x = Flatten(name='Flatten')(words_embeddings)\n",
    "predictions = Dense(1, activation='sigmoid', name='Predictions')(x)\n",
    "model = Model(words_input, predictions)\n",
    "\n",
    "print(model.summary())"
   ]
  },
  {
   "cell_type": "markdown",
   "metadata": {
    "pycharm": {
     "name": "#%% md\n"
    }
   },
   "source": [
    "## Train Model"
   ]
  },
  {
   "cell_type": "code",
   "execution_count": 9,
   "metadata": {
    "pycharm": {
     "is_executing": false,
     "name": "#%%\n"
    }
   },
   "outputs": [
    {
     "name": "stdout",
     "output_type": "stream",
     "text": [
      "Train on 18750 samples, validate on 6250 samples\n",
      "Epoch 1/5\n",
      "18750/18750 [==============================] - 28s 1ms/sample - loss: 0.4580 - acc: 0.7692 - val_loss: 0.2980 - val_acc: 0.8710\n",
      "Epoch 2/5\n",
      "18750/18750 [==============================] - 27s 1ms/sample - loss: 0.1425 - acc: 0.9529 - val_loss: 0.2680 - val_acc: 0.8899\n",
      "Epoch 3/5\n",
      "18750/18750 [==============================] - 28s 1ms/sample - loss: 0.0427 - acc: 0.9922 - val_loss: 0.2907 - val_acc: 0.8854\n",
      "Epoch 4/5\n",
      "18750/18750 [==============================] - 27s 1ms/sample - loss: 0.0144 - acc: 0.9989 - val_loss: 0.2968 - val_acc: 0.8936\n",
      "Epoch 5/5\n",
      "18750/18750 [==============================] - 26s 1ms/sample - loss: 0.0064 - acc: 0.9998 - val_loss: 0.3140 - val_acc: 0.8926\n"
     ]
    }
   ],
   "source": [
    "model.compile(optimizer='adam', loss='binary_crossentropy', metrics=['acc'])\n",
    "history = model.fit(X_train,\n",
    "                    y_train, \n",
    "                    batch_size=50, \n",
    "                    epochs=5, \n",
    "                    validation_data=(X_val, y_val))"
   ]
  },
  {
   "cell_type": "markdown",
   "metadata": {
    "pycharm": {
     "name": "#%% md\n"
    }
   },
   "source": [
    "## Model Evaluation"
   ]
  },
  {
   "cell_type": "code",
   "execution_count": 10,
   "metadata": {
    "pycharm": {
     "is_executing": false,
     "name": "#%%\n"
    }
   },
   "outputs": [
    {
     "name": "stdout",
     "output_type": "stream",
     "text": [
      "25000/25000 [==============================] - 4s 175us/sample - loss: 0.3323 - acc: 0.8795\n",
      "Evaluation accuracy: 87.95%\n"
     ]
    }
   ],
   "source": [
    "scores = model.evaluate(X_test, y_test)\n",
    "print(f'Evaluation accuracy: {100*scores[1]:.2f}%')"
   ]
  },
  {
   "cell_type": "markdown",
   "metadata": {
    "pycharm": {
     "name": "#%% md\n"
    }
   },
   "source": [
    "# Plot Accuracy and Loss"
   ]
  },
  {
   "cell_type": "code",
   "execution_count": 11,
   "metadata": {
    "pycharm": {
     "is_executing": false,
     "name": "#%%\n"
    }
   },
   "outputs": [
    {
     "data": {
      "image/png": "[encoded data removed]",
      "text/plain": [
       "<Figure size 864x432 with 2 Axes>"
      ]
     },
     "metadata": {
      "needs_background": "light"
     },
     "output_type": "display_data"
    }
   ],
   "source": [
    "from matplotlib import pyplot as plt\n",
    "%matplotlib inline\n",
    "\n",
    "_, (ax1, ax2) = plt.subplots(nrows=2, ncols=1, sharex=True, figsize=(12, 6))\n",
    "ax1.plot(history.epoch, history.history['acc'], label='Training')\n",
    "ax1.plot(history.epoch, history.history['val_acc'], label='Validation')\n",
    "ax1.set_title('Accuracy')\n",
    "ax1.legend()\n",
    "\n",
    "ax2.plot(history.epoch, history.history['loss'], label='Training')\n",
    "ax2.plot(history.epoch, history.history['val_loss'], label='Validation')\n",
    "ax2.set_title('Loss')\n",
    "ax2.set_xlabel('epochs')\n",
    "ax2.legend()\n",
    "\n",
    "plt.show()"
   ]
  }
 ],
 "metadata": {
  "hide_input": false,
  "kernelspec": {
   "display_name": "Python 3",
   "language": "python",
   "name": "python3"
  },
  "language_info": {
   "codemirror_mode": {
    "name": "ipython",
    "version": 3
   },
   "file_extension": ".py",
   "mimetype": "text/x-python",
   "name": "python",
   "nbconvert_exporter": "python",
   "pygments_lexer": "ipython3",
   "version": "3.6.9"
  },
  "latex_envs": {
   "LaTeX_envs_menu_present": true,
   "autoclose": false,
   "autocomplete": true,
   "bibliofile": "biblio.bib",
   "cite_by": "apalike",
   "current_citInitial": 1,
   "eqLabelWithNumbers": true,
   "eqNumInitial": 1,
   "hotkeys": {
    "equation": "Ctrl-E",
    "itemize": "Ctrl-I"
   },
   "labels_anchors": false,
   "latex_user_defs": false,
   "report_style_numbering": false,
   "user_envs_cfg": false
  },
  "toc": {
   "base_numbering": 1,
   "nav_menu": {},
   "number_sections": true,
   "sideBar": true,
   "skip_h1_title": false,
   "title_cell": "Table of Contents",
   "title_sidebar": "Contents",
   "toc_cell": false,
   "toc_position": {},
   "toc_section_display": true,
   "toc_window_display": false
  }
 },
 "nbformat": 4,
 "nbformat_minor": 1
}
