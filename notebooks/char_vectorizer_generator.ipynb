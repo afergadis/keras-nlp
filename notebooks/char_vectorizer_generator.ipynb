{
 "cells": [
  {
   "cell_type": "markdown",
   "metadata": {
    "pycharm": {
     "name": "#%% md\n"
    }
   },
   "source": [
    "# Data\n",
    "Download the IMDB reviews if its not already in the local cache.\n",
    "Load from the local cache and split to train and test sets."
   ]
  },
  {
   "cell_type": "code",
   "execution_count": 1,
   "metadata": {
    "pycharm": {
     "is_executing": false
    }
   },
   "outputs": [
    {
     "name": "stderr",
     "output_type": "stream",
     "text": [
      "Using TensorFlow backend.\n"
     ]
    },
    {
     "name": "stdout",
     "output_type": "stream",
     "text": [
      "An example from the reviews:\n",
      "============================\n",
      "Text : If you are expecting to see a lot in the bath of Alt&#305;oklar, as it is promised by the tag line, you will be very disappointed to see that the movie consists of nothing but the populist style of Al...\n",
      "Label: neg\n"
     ]
    }
   ],
   "source": [
    "import os\n",
    "import ssl\n",
    "from keras.utils import get_file\n",
    "try:\n",
    "    from notebooks.data import load_imdb\n",
    "except ModuleNotFoundError:\n",
    "    from data import load_imdb\n",
    "\n",
    "if (not os.environ.get('PYTHONHTTPSVERIFY', '')\n",
    "        and getattr(ssl, '_create_unverified_context', None)):\n",
    "    ssl._create_default_https_context = ssl._create_unverified_context\n",
    "\n",
    "zip_file = get_file('aclImdb.zip', origin='http://mng.bz/0tIo', extract=True)\n",
    "imdb_dir = zip_file.replace('.zip', '')\n",
    "(train_texts, train_labels), (test_texts, test_labels) = load_imdb(imdb_dir)\n",
    "\n",
    "print('An example from the reviews:')\n",
    "print('============================')\n",
    "print(f'Text : {train_texts[0][:200]}...')\n",
    "print(f'Label: {train_labels[0]}')"
   ]
  },
  {
   "cell_type": "markdown",
   "metadata": {
    "pycharm": {
     "name": "#%% md\n"
    }
   },
   "source": [
    "# Prepare Data\n",
    "Initialize a `CharVectorizer`. The vectorizer will be fitted on the \n",
    "`train_texts`. We won't use any word tokenizer, so the words will be splitted\n",
    "on spaces. The vocabulary will have only the characters set on the \n",
    "`characters` attribute, the PAD and the OOV token."
   ]
  },
  {
   "cell_type": "code",
   "execution_count": 2,
   "metadata": {
    "pycharm": {
     "is_executing": false,
     "name": "#%%\n"
    }
   },
   "outputs": [
    {
     "name": "stderr",
     "output_type": "stream",
     "text": [
      "2020-Feb-03 16:37:09 [INFO    :CharVectorizer] - Creating vocabulary.\n"
     ]
    },
    {
     "name": "stdout",
     "output_type": "stream",
     "text": [
      "25000/25000 [==============================] - 3s 125us/step\n",
      "Vectorizer number of tokens: 28\n"
     ]
    }
   ],
   "source": [
    "from keras_nlp import CharVectorizer\n",
    "\n",
    "char_vectorizer = CharVectorizer(\n",
    "    characters='abcdefghijklmnopqrstuvwxyz', oov_token='#')\n",
    "char_vectorizer.fit_on_texts(train_texts)\n",
    "# The vectorizer's number of tokens: num_chars + PAD + OOV token\n",
    "print(f'Vectorizer number of tokens: {len(char_vectorizer.token2id)}')"
   ]
  },
  {
   "cell_type": "markdown",
   "metadata": {
    "pycharm": {
     "name": "#%% md\n"
    }
   },
   "source": [
    "## Encode Labels\n",
    "The labels are strings ('pos' / 'neg'). We will convert them to numbers."
   ]
  },
  {
   "cell_type": "code",
   "execution_count": 3,
   "metadata": {
    "pycharm": {
     "is_executing": false,
     "name": "#%%\n"
    }
   },
   "outputs": [],
   "source": [
    "from sklearn.preprocessing import label_binarize\n",
    "\n",
    "y_train = label_binarize(train_labels, classes=['neg', 'pos'])\n",
    "y_test = label_binarize(test_labels, classes=['neg', 'pos'])"
   ]
  },
  {
   "cell_type": "markdown",
   "metadata": {
    "pycharm": {
     "name": "#%% md\n"
    }
   },
   "source": [
    "## Keep a Validation Set"
   ]
  },
  {
   "cell_type": "code",
   "execution_count": 4,
   "metadata": {
    "pycharm": {
     "is_executing": false,
     "name": "#%%\n"
    }
   },
   "outputs": [],
   "source": [
    "from sklearn.model_selection import train_test_split\n",
    "\n",
    "train_texts, val_texts, y_train, y_val = train_test_split(\n",
    "    train_texts, y_train, stratify=train_labels, shuffle=True, random_state=45)"
   ]
  },
  {
   "cell_type": "markdown",
   "metadata": {
    "pycharm": {
     "name": "#%% md\n"
    }
   },
   "source": [
    "## Vectorize Data\n",
    "We apply the fitted vectorizer onto the train and test texts. \n",
    "We keep `max_tokens` per text and `max_characters` per token."
   ]
  },
  {
   "cell_type": "markdown",
   "metadata": {
    "pycharm": {
     "name": "#%% md\n"
    }
   },
   "source": [
    "**Attention**: We *must* pass the same shape `(max_tokens, max_characters)` \n",
    "when converting different text sets. If we don't, then it is almost certain \n",
    "that the results will have different numbers of columns because the sets are \n",
    "likely to have different number of tokens."
   ]
  },
  {
   "cell_type": "code",
   "execution_count": 5,
   "metadata": {
    "pycharm": {
     "is_executing": false,
     "name": "#%%\n"
    }
   },
   "outputs": [],
   "source": [
    "batch_size = 50\n",
    "max_tokens, max_characters = 1000, 10\n",
    "train_generator = char_vectorizer.texts_to_vectors_generator(\n",
    "    train_texts,\n",
    "    y_train,\n",
    "    shape=(max_tokens, max_characters),\n",
    "    batch_size=batch_size)\n",
    "\n",
    "val_generator = char_vectorizer.texts_to_vectors_generator(\n",
    "    val_texts,\n",
    "    y_val,\n",
    "    shape=(max_tokens, max_characters),\n",
    "    batch_size=batch_size)"
   ]
  },
  {
   "cell_type": "markdown",
   "metadata": {
    "pycharm": {
     "name": "#%% md\n"
    }
   },
   "source": [
    "# Neural Network\n",
    "Here we define a toy network for demonstration purpose."
   ]
  },
  {
   "cell_type": "code",
   "execution_count": 6,
   "metadata": {
    "pycharm": {
     "is_executing": false,
     "name": "#%%\n"
    }
   },
   "outputs": [
    {
     "name": "stdout",
     "output_type": "stream",
     "text": [
      "_________________________________________________________________\n",
      "Layer (type)                 Output Shape              Param #   \n",
      "=================================================================\n",
      "Input (InputLayer)           (None, 1000, 10)          0         \n",
      "_________________________________________________________________\n",
      "Embeddings (TimeDistributed) (None, 1000, 10, 20)      560       \n",
      "_________________________________________________________________\n",
      "Input_Dropout (Dropout)      (None, 1000, 10, 20)      0         \n",
      "_________________________________________________________________\n",
      "Flatten (Flatten)            (None, 200000)            0         \n",
      "_________________________________________________________________\n",
      "Dropout (Dropout)            (None, 200000)            0         \n",
      "_________________________________________________________________\n",
      "Predictions (Dense)          (None, 1)                 200001    \n",
      "=================================================================\n",
      "Total params: 200,561\n",
      "Trainable params: 200,561\n",
      "Non-trainable params: 0\n",
      "_________________________________________________________________\n",
      "None\n"
     ]
    }
   ],
   "source": [
    "from keras.models import Model\n",
    "from keras.layers import (Input, TimeDistributed, Embedding, Flatten, Dense,\n",
    "                          Dropout)\n",
    "\n",
    "chars_input = Input(\n",
    "    shape=(\n",
    "        max_tokens,\n",
    "        max_characters,\n",
    "    ), name='Input', dtype='int32')\n",
    "chars_embeddings = TimeDistributed(\n",
    "    Embedding(\n",
    "        input_dim=char_vectorizer.num_tokens,\n",
    "        output_dim=20,\n",
    "        input_length=max_characters,\n",
    "        mask_zero=False,\n",
    "        trainable=True),\n",
    "    name='Embeddings')(chars_input)\n",
    "x = Flatten(name='Flatten')(x)\n",
    "x = Dropout(0.4, name='Dropout')(x)\n",
    "predictions = Dense(1, activation='sigmoid', name='Predictions')(x)\n",
    "model = Model(chars_input, predictions)\n",
    "model.compile(\n",
    "    optimizer='adam', loss='binary_crossentropy', metrics=['acc'])\n",
    "\n",
    "print(model.summary())"
   ]
  },
  {
   "cell_type": "markdown",
   "metadata": {
    "pycharm": {
     "name": "#%% md\n"
    }
   },
   "source": [
    "## Train Model"
   ]
  },
  {
   "cell_type": "code",
   "execution_count": 7,
   "metadata": {
    "pycharm": {
     "is_executing": false,
     "name": "#%%\n"
    }
   },
   "outputs": [
    {
     "name": "stdout",
     "output_type": "stream",
     "text": [
      "Epoch 1/5\n",
      "376/376 [==============================] - 23s 62ms/step - loss: 0.6854 - acc: 0.5494 - val_loss: 0.6792 - val_acc: 0.5475\n",
      "Epoch 2/5\n",
      "376/376 [==============================] - 23s 60ms/step - loss: 0.5865 - acc: 0.6884 - val_loss: 0.6681 - val_acc: 0.6103\n",
      "Epoch 3/5\n",
      "376/376 [==============================] - 22s 59ms/step - loss: 0.5026 - acc: 0.7498 - val_loss: 0.6780 - val_acc: 0.6194\n",
      "Epoch 4/5\n",
      "376/376 [==============================] - 22s 59ms/step - loss: 0.4437 - acc: 0.7857 - val_loss: 0.6969 - val_acc: 0.6276\n",
      "Epoch 5/5\n",
      "376/376 [==============================] - 22s 59ms/step - loss: 0.4169 - acc: 0.8037 - val_loss: 0.7062 - val_acc: 0.6371\n"
     ]
    }
   ],
   "source": [
    "train_steps = len(train_texts) // batch_size\n",
    "if train_steps % batch_size:\n",
    "    train_steps += 1\n",
    "val_steps = len(val_texts) // batch_size\n",
    "if val_steps % batch_size:\n",
    "    val_steps += 1\n",
    "    \n",
    "history = model.fit_generator(\n",
    "    generator=train_generator,\n",
    "    steps_per_epoch=train_steps,\n",
    "    validation_data=val_generator,\n",
    "    validation_steps=val_steps,\n",
    "    epochs=5\n",
    ")"
   ]
  },
  {
   "cell_type": "markdown",
   "metadata": {
    "pycharm": {
     "name": "#%% md\n"
    }
   },
   "source": [
    "## Model Evaluation"
   ]
  },
  {
   "cell_type": "code",
   "execution_count": 8,
   "metadata": {
    "pycharm": {
     "is_executing": false,
     "name": "#%%\n"
    }
   },
   "outputs": [
    {
     "name": "stdout",
     "output_type": "stream",
     "text": [
      "500/500 [==============================] - 21s 42ms/step\n",
      "              precision    recall  f1-score   support\n",
      "\n",
      "         neg     0.5984    0.7658    0.6719     12500\n",
      "         pos     0.6749    0.4861    0.5651     12500\n",
      "\n",
      "   micro avg     0.6260    0.6260    0.6260     25000\n",
      "   macro avg     0.6367    0.6260    0.6185     25000\n",
      "weighted avg     0.6367    0.6260    0.6185     25000\n",
      "\n"
     ]
    }
   ],
   "source": [
    "import numpy as np\n",
    "from sklearn.metrics import classification_report\n",
    "\n",
    "steps = len(test_texts) // batch_size\n",
    "if len(test_texts) % batch_size:\n",
    "    steps += 1\n",
    "test_generator = char_vectorizer.texts_to_vectors_generator(\n",
    "    test_texts,\n",
    "    y_test,\n",
    "    shape=(max_tokens, max_characters),\n",
    "    batch_size=batch_size)\n",
    "predictions = model.predict_generator(test_generator, steps=steps, verbose=1)\n",
    "y_pred = np.round(predictions)\n",
    "print(\n",
    "    classification_report(\n",
    "        y_test, y_pred, digits=4, target_names=['neg', 'pos']))"
   ]
  },
  {
   "cell_type": "markdown",
   "metadata": {
    "pycharm": {
     "name": "#%% md\n"
    }
   },
   "source": [
    "## Plot Accuracy and Loss"
   ]
  },
  {
   "cell_type": "code",
   "execution_count": 9,
   "metadata": {
    "pycharm": {
     "is_executing": false,
     "name": "#%%\n"
    }
   },
   "outputs": [
    {
     "data": {
      "image/png": "[encoded data removed]",
      "text/plain": [
       "<Figure size 864x432 with 2 Axes>"
      ]
     },
     "metadata": {
      "needs_background": "light"
     },
     "output_type": "display_data"
    }
   ],
   "source": [
    "from matplotlib import pyplot as plt\n",
    "%matplotlib inline\n",
    "\n",
    "f, (ax1, ax2) = plt.subplots(nrows=2, ncols=1, sharex=True, figsize=(12, 6))\n",
    "ax1.plot(history.epoch, history.history['acc'], label='Training')\n",
    "ax1.plot(history.epoch, history.history['val_acc'], label='Validation')\n",
    "ax1.set_title('Accuracy')\n",
    "\n",
    "ax2.plot(history.epoch, history.history['loss'], label='Training')\n",
    "ax2.plot(history.epoch, history.history['val_loss'], label='Validation')\n",
    "ax2.set_title('Loss')\n",
    "ax2.set_xlabel('epochs')\n",
    "ax2.legend()\n",
    "\n",
    "plt.show()"
   ]
  },
  {
   "cell_type": "code",
   "execution_count": null,
   "metadata": {
    "pycharm": {
     "is_executing": false
    }
   },
   "outputs": [],
   "source": []
  }
 ],
 "metadata": {
  "hide_input": false,
  "kernelspec": {
   "display_name": "Python 3",
   "language": "python",
   "name": "python3"
  },
  "language_info": {
   "codemirror_mode": {
    "name": "ipython",
    "version": 3
   },
   "file_extension": ".py",
   "mimetype": "text/x-python",
   "name": "python",
   "nbconvert_exporter": "python",
   "pygments_lexer": "ipython3",
   "version": "3.6.7"
  },
  "latex_envs": {
   "LaTeX_envs_menu_present": true,
   "autoclose": false,
   "autocomplete": true,
   "bibliofile": "biblio.bib",
   "cite_by": "apalike",
   "current_citInitial": 1,
   "eqLabelWithNumbers": true,
   "eqNumInitial": 1,
   "hotkeys": {
    "equation": "Ctrl-E",
    "itemize": "Ctrl-I"
   },
   "labels_anchors": false,
   "latex_user_defs": false,
   "report_style_numbering": false,
   "user_envs_cfg": false
  },
  "pycharm": {
   "stem_cell": {
    "cell_type": "raw",
    "metadata": {
     "collapsed": false
    },
    "source": []
   }
  }
 },
 "nbformat": 4,
 "nbformat_minor": 1
}
