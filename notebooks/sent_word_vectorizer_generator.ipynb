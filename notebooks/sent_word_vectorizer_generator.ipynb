{
 "cells": [
  {
   "cell_type": "markdown",
   "metadata": {
    "pycharm": {
     "name": "#%% md\n"
    }
   },
   "source": [
    "# Data\n",
    "Download the IMDB reviews if its not already in the local cache.\n",
    "Load from the local cache and split to train and test sets."
   ]
  },
  {
   "cell_type": "code",
   "execution_count": 1,
   "metadata": {
    "pycharm": {
     "is_executing": false
    }
   },
   "outputs": [
    {
     "name": "stdout",
     "output_type": "stream",
     "text": [
      "An example from the reviews:\n",
      "============================\n",
      "Text : If you are expecting to see a lot in the bath of Alt&#305;oklar, as it is promised by the tag line, you will be very disappointed to see that the movie consists of nothing but the populist style of Al...\n",
      "Label: neg\n"
     ]
    }
   ],
   "source": [
    "import os\n",
    "import ssl\n",
    "from keras.utils import get_file\n",
    "try:\n",
    "    from notebooks.data import load_imdb\n",
    "except ModuleNotFoundError:\n",
    "    from data import load_imdb\n",
    "\n",
    "if (not os.environ.get('PYTHONHTTPSVERIFY', '') and\n",
    "    getattr(ssl, '_create_unverified_context', None)): \n",
    "    ssl._create_default_https_context = ssl._create_unverified_context\n",
    "    \n",
    "zip_file = get_file('aclImdb.zip', origin='http://mng.bz/0tIo', extract=True)\n",
    "imdb_dir = zip_file.replace('.zip', '')\n",
    "(train_texts, train_labels), (test_texts, test_labels) = load_imdb(imdb_dir)\n",
    "\n",
    "print('An example from the reviews:')\n",
    "print('============================')\n",
    "print(f'Text : {train_texts[0][:200]}...')\n",
    "print(f'Label: {train_labels[0]}')"
   ]
  },
  {
   "cell_type": "markdown",
   "metadata": {
    "pycharm": {
     "name": "#%% md\n"
    }
   },
   "source": [
    "# Prepare Data\n",
    "Initialize a `SentWordVectorizer`. The vectorizer will be fitted on the \n",
    "`train_texts`. We will use a simple sentence tokenizer and a simple \n",
    "word tokenizer,  so the words will be split on spaces. The vocabulary is \n",
    "restricted to  `num_words` words."
   ]
  },
  {
   "cell_type": "code",
   "execution_count": 2,
   "metadata": {
    "pycharm": {
     "is_executing": false,
     "name": "#%%\n"
    }
   },
   "outputs": [
    {
     "name": "stderr",
     "output_type": "stream",
     "text": [
      "2020-Feb-02 20:29:07 [INFO    :SentWordVectorizer] - Creating vocabulary.\n"
     ]
    },
    {
     "name": "stdout",
     "output_type": "stream",
     "text": [
      "25000/25000 [==============================] - 5s 183us/step\n",
      "Vectorizer number of tokens: 50002\n"
     ]
    }
   ],
   "source": [
    "from keras_nlp.preprocessing import sent_tokenize, word_tokenize\n",
    "from keras_nlp import SentWordVectorizer\n",
    "\n",
    "num_words = 50000\n",
    "sent_word_vectorizer = SentWordVectorizer(\n",
    "    sent_tokenize, num_words=num_words, oov_token='UNK')\n",
    "sent_word_vectorizer.fit_on_texts(train_texts)\n",
    "# The vectorizer's number of tokens num_words + PAD + OOV token\n",
    "print(f'Vectorizer number of tokens: {sent_word_vectorizer.num_tokens}')"
   ]
  },
  {
   "cell_type": "markdown",
   "metadata": {},
   "source": [
    "## Encode Labels\n",
    "The labels are strings ('pos' / 'neg'). We will convert them to numbers."
   ]
  },
  {
   "cell_type": "code",
   "execution_count": 3,
   "metadata": {
    "pycharm": {
     "is_executing": false,
     "name": "#%%\n"
    }
   },
   "outputs": [],
   "source": [
    "from sklearn.preprocessing import label_binarize\n",
    "\n",
    "y_train = label_binarize(train_labels, classes=['neg', 'pos'])\n",
    "y_test = label_binarize(test_labels, classes=['neg', 'pos'])"
   ]
  },
  {
   "cell_type": "markdown",
   "metadata": {},
   "source": [
    "## Keep a Validation Set"
   ]
  },
  {
   "cell_type": "code",
   "execution_count": 4,
   "metadata": {
    "pycharm": {
     "is_executing": false,
     "name": "#%%\n"
    }
   },
   "outputs": [],
   "source": [
    "from sklearn.model_selection import train_test_split\n",
    "\n",
    "train_texts, val_texts, y_train, y_val = train_test_split(\n",
    "    train_texts, y_train, stratify=train_labels, shuffle=True, random_state=45)"
   ]
  },
  {
   "cell_type": "markdown",
   "metadata": {
    "pycharm": {
     "name": "#%% md\n"
    }
   },
   "source": [
    "## Create Generators for Vectorized Data\n",
    "We use the `texts_to_vectors_generator` method. The generator expects the \n",
    "texts, the labels and other parameters such as `shape` and `batch_size`.\n",
    "For the `shape` we define to be `max_sentences, max_tokens`, where \n",
    "`max_sentences` apply to the text and `max_tokens` to the sentences.\n",
    "\n",
    "**Attention**: We *must* pass the same number of `max_sentences` and \n",
    "`max_tokens` when converting different text sets (train, validation, test). \n",
    "If we don't, then it is almost certain that the results will have different \n",
    "numbers of columns because the set are likely to have different number of tokens."
   ]
  },
  {
   "cell_type": "code",
   "execution_count": 5,
   "metadata": {
    "pycharm": {
     "is_executing": false,
     "name": "#%%\n"
    }
   },
   "outputs": [],
   "source": [
    "batch_size = 50\n",
    "max_sentences, max_tokens = 10, 15\n",
    "train_generator = sent_word_vectorizer.texts_to_vectors_generator(\n",
    "    train_texts, y_train, shape=(max_sentences, max_tokens), batch_size=batch_size)\n",
    "val_generator = sent_word_vectorizer.texts_to_vectors_generator(\n",
    "    val_texts, y_val, shape=(max_sentences, max_tokens), batch_size=batch_size)"
   ]
  },
  {
   "cell_type": "markdown",
   "metadata": {
    "pycharm": {
     "name": "#%% md\n"
    }
   },
   "source": [
    "# Neural Network\n",
    "Here we define a toy network for demonstration purpose.\n",
    "The model has two layers. The first encodes the words of a sentence providing \n",
    "sentence vectors. The second encodes the sentence\n",
    "vectors to a document vector.\n",
    "\n",
    "## Word Encoder Model\n",
    "You might want to use an Attention layer instead of a Flatten in both \n",
    "`word_model` and `model`."
   ]
  },
  {
   "cell_type": "code",
   "execution_count": 6,
   "metadata": {
    "pycharm": {
     "is_executing": false,
     "name": "#%%\n"
    }
   },
   "outputs": [
    {
     "name": "stdout",
     "output_type": "stream",
     "text": [
      "__________________________________________________________________________________________\n",
      "Layer (type)                            Output Shape                        Param #       \n",
      "==========================================================================================\n",
      "Words_Input (InputLayer)                (None, 15)                          0             \n",
      "__________________________________________________________________________________________\n",
      "Embeddings (Embedding)                  (None, 15, 100)                     5000200       \n",
      "__________________________________________________________________________________________\n",
      "Words_Encoder (Bidirectional)           (None, 15, 200)                     160800        \n",
      "__________________________________________________________________________________________\n",
      "Flatten (Flatten)                       (None, 3000)                        0             \n",
      "==========================================================================================\n",
      "Total params: 5,161,000\n",
      "Trainable params: 5,161,000\n",
      "Non-trainable params: 0\n",
      "__________________________________________________________________________________________\n",
      "None\n"
     ]
    }
   ],
   "source": [
    "from keras.models import Model\n",
    "from keras.layers import (Input, Embedding, Flatten, Dense, Bidirectional,\n",
    "                          LSTM, TimeDistributed, Dropout)\n",
    "\n",
    "rnn_params = dict(dropout=0.2, return_sequences=True, recurrent_dropout=0.2)\n",
    "\n",
    "words_input = Input(shape=(max_tokens, ), name='Words_Input', dtype='int32')\n",
    "words_embeddings = Embedding(\n",
    "    input_dim=sent_word_vectorizer.num_tokens,\n",
    "    output_dim=100,\n",
    "    input_length=max_tokens,\n",
    "    mask_zero=False,\n",
    "    trainable=True,\n",
    "    name='Embeddings')(words_input)\n",
    "words_encoder = Bidirectional(\n",
    "    LSTM(100, **rnn_params), name='Words_Encoder')(words_embeddings)\n",
    "x = Flatten(name='Flatten')(words_encoder)\n",
    "word_model = Model(words_input, x)\n",
    "\n",
    "print(word_model.summary(line_length=90))"
   ]
  },
  {
   "cell_type": "markdown",
   "metadata": {},
   "source": [
    "## Sentence Encoder Model"
   ]
  },
  {
   "cell_type": "code",
   "execution_count": 7,
   "metadata": {
    "pycharm": {
     "is_executing": false
    }
   },
   "outputs": [
    {
     "name": "stdout",
     "output_type": "stream",
     "text": [
      "__________________________________________________________________________________________\n",
      "Layer (type)                            Output Shape                        Param #       \n",
      "==========================================================================================\n",
      "Sent_Input (InputLayer)                 (None, 10, 15)                      0             \n",
      "__________________________________________________________________________________________\n",
      "Word_Model (TimeDistributed)            (None, 10, 3000)                    5161000       \n",
      "__________________________________________________________________________________________\n",
      "Sents_Encoder (Bidirectional)           (None, 10, 200)                     2480800       \n",
      "__________________________________________________________________________________________\n",
      "Dropout (Dropout)                       (None, 10, 200)                     0             \n",
      "__________________________________________________________________________________________\n",
      "Flatten (Flatten)                       (None, 2000)                        0             \n",
      "__________________________________________________________________________________________\n",
      "Predictions (Dense)                     (None, 1)                           2001          \n",
      "==========================================================================================\n",
      "Total params: 7,643,801\n",
      "Trainable params: 7,643,801\n",
      "Non-trainable params: 0\n",
      "__________________________________________________________________________________________\n",
      "None\n"
     ]
    }
   ],
   "source": [
    "sent_input = Input(\n",
    "    shape=(max_sentences, max_tokens), dtype='int32', name='Sent_Input')\n",
    "sent_input_over_word_model = TimeDistributed(\n",
    "    word_model, name='Word_Model')(sent_input)\n",
    "sent_encoder = Bidirectional(\n",
    "    LSTM(100, **rnn_params), name='Sents_Encoder')(sent_input_over_word_model)\n",
    "x = Dropout(0.3, name='Dropout')(sent_encoder)\n",
    "x = Flatten(name='Flatten')(x)\n",
    "predictions = Dense(1, activation='sigmoid', name='Predictions')(x)\n",
    "model = Model(sent_input, predictions)\n",
    "model.compile(optimizer='rmsprop', loss='binary_crossentropy', metrics=['acc'])\n",
    "\n",
    "print(model.summary(line_length=90))"
   ]
  },
  {
   "cell_type": "markdown",
   "metadata": {
    "pycharm": {
     "name": "#%% md\n"
    }
   },
   "source": [
    "## Train Model"
   ]
  },
  {
   "cell_type": "code",
   "execution_count": 8,
   "metadata": {
    "pycharm": {
     "is_executing": false,
     "name": "#%%\n"
    }
   },
   "outputs": [
    {
     "name": "stdout",
     "output_type": "stream",
     "text": [
      "Epoch 1/5\n",
      "376/376 [==============================] - 45s 119ms/step - loss: 0.4696 - acc: 0.7691 - val_loss: 0.3667 - val_acc: 0.8351\n",
      "Epoch 2/5\n",
      "376/376 [==============================] - 40s 106ms/step - loss: 0.2843 - acc: 0.8818 - val_loss: 0.3723 - val_acc: 0.8456\n",
      "Epoch 3/5\n",
      "376/376 [==============================] - 40s 105ms/step - loss: 0.2007 - acc: 0.9186 - val_loss: 0.3931 - val_acc: 0.8441\n",
      "Epoch 4/5\n",
      "376/376 [==============================] - 39s 104ms/step - loss: 0.1386 - acc: 0.9473 - val_loss: 0.4893 - val_acc: 0.8319\n",
      "Epoch 5/5\n",
      "376/376 [==============================] - 40s 105ms/step - loss: 0.0828 - acc: 0.9698 - val_loss: 0.6998 - val_acc: 0.8294\n"
     ]
    }
   ],
   "source": [
    "train_steps_per_epoch = len(train_texts) // batch_size\n",
    "if train_steps_per_epoch % batch_size:\n",
    "    train_steps_per_epoch += 1\n",
    "val_steps_per_epoch = len(val_texts) // batch_size\n",
    "if val_steps_per_epoch % batch_size:\n",
    "    val_steps_per_epoch += 1\n",
    "\n",
    "history = model.fit_generator(\n",
    "                    generator=train_generator,\n",
    "                    steps_per_epoch=train_steps_per_epoch,\n",
    "                    validation_data=val_generator,\n",
    "                    validation_steps=val_steps_per_epoch,\n",
    "                    epochs=5)"
   ]
  },
  {
   "cell_type": "markdown",
   "metadata": {
    "pycharm": {
     "name": "#%% md\n"
    }
   },
   "source": [
    "## Model Evaluation"
   ]
  },
  {
   "cell_type": "code",
   "execution_count": 9,
   "metadata": {
    "pycharm": {
     "is_executing": false,
     "name": "#%%\n"
    }
   },
   "outputs": [
    {
     "name": "stdout",
     "output_type": "stream",
     "text": [
      "500/500 [==============================] - 18s 36ms/step\n",
      "              precision    recall  f1-score   support\n",
      "\n",
      "         neg     0.8141    0.7934    0.8036     12500\n",
      "         pos     0.7985    0.8189    0.8086     12500\n",
      "\n",
      "   micro avg     0.8061    0.8061    0.8061     25000\n",
      "   macro avg     0.8063    0.8061    0.8061     25000\n",
      "weighted avg     0.8063    0.8061    0.8061     25000\n",
      "\n"
     ]
    }
   ],
   "source": [
    "import numpy as np\n",
    "from sklearn.metrics import classification_report\n",
    "\n",
    "steps = len(test_texts) // batch_size\n",
    "if len(test_texts) % batch_size:\n",
    "    steps += 1\n",
    "test_generator = sent_word_vectorizer.texts_to_vectors_generator(\n",
    "    test_texts, y_test, shape=(max_sentences, max_tokens,), batch_size=batch_size)\n",
    "predictions = model.predict_generator(test_generator, steps=steps, verbose=1)\n",
    "y_pred = np.round(predictions)\n",
    "print(classification_report(\n",
    "    y_test, y_pred, digits=4, target_names=['neg', 'pos']))\n"
   ]
  },
  {
   "cell_type": "markdown",
   "metadata": {
    "pycharm": {
     "name": "#%% md\n"
    }
   },
   "source": [
    "# Plot Accuracy and Loss"
   ]
  },
  {
   "cell_type": "code",
   "execution_count": 10,
   "metadata": {
    "pycharm": {
     "is_executing": false,
     "name": "#%%\n"
    }
   },
   "outputs": [
    {
     "data": {
      "image/png": "[encoded data removed]",
      "text/plain": [
       "<Figure size 864x432 with 2 Axes>"
      ]
     },
     "metadata": {
      "needs_background": "light"
     },
     "output_type": "display_data"
    }
   ],
   "source": [
    "from matplotlib import pyplot as plt\n",
    "%matplotlib inline\n",
    "\n",
    "_, (ax1, ax2) = plt.subplots(nrows=2, ncols=1, sharex=True, figsize=(12, 6))\n",
    "ax1.plot(history.epoch, history.history['acc'], label='Training')\n",
    "ax1.plot(history.epoch, history.history['val_acc'], label='Validation')\n",
    "ax1.set_title('Accuracy')\n",
    "ax1.legend()\n",
    "\n",
    "ax2.plot(history.epoch, history.history['loss'], label='Training')\n",
    "ax2.plot(history.epoch, history.history['val_loss'], label='Validation')\n",
    "ax2.set_title('Loss')\n",
    "ax2.set_xlabel('epochs')\n",
    "ax2.legend()\n",
    "\n",
    "plt.show()"
   ]
  },
  {
   "cell_type": "code",
   "execution_count": 10,
   "metadata": {
    "pycharm": {
     "is_executing": false
    }
   },
   "outputs": [],
   "source": []
  }
 ],
 "metadata": {
  "hide_input": false,
  "kernelspec": {
   "display_name": "Python 3",
   "language": "python",
   "name": "python3"
  },
  "language_info": {
   "codemirror_mode": {
    "name": "ipython",
    "version": 3
   },
   "file_extension": ".py",
   "mimetype": "text/x-python",
   "name": "python",
   "nbconvert_exporter": "python",
   "pygments_lexer": "ipython3",
   "version": "3.6.7"
  },
  "latex_envs": {
   "LaTeX_envs_menu_present": true,
   "autoclose": false,
   "autocomplete": true,
   "bibliofile": "biblio.bib",
   "cite_by": "apalike",
   "current_citInitial": 1,
   "eqLabelWithNumbers": true,
   "eqNumInitial": 1,
   "hotkeys": {
    "equation": "Ctrl-E",
    "itemize": "Ctrl-I"
   },
   "labels_anchors": false,
   "latex_user_defs": false,
   "report_style_numbering": false,
   "user_envs_cfg": false
  },
  "pycharm": {
   "stem_cell": {
    "cell_type": "raw",
    "source": [],
    "metadata": {
     "collapsed": false
    }
   }
  }
 },
 "nbformat": 4,
 "nbformat_minor": 1
}